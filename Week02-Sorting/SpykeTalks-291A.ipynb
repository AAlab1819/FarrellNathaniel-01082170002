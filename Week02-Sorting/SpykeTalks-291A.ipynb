{
 "cells": [
  {
   "cell_type": "code",
   "execution_count": 1,
   "metadata": {},
   "outputs": [
    {
     "name": "stdout",
     "output_type": "stream",
     "text": [
      "6\n",
      "0 1 7 1 7 10\n",
      "[0, 1, 1, 7, 7, 10]\n"
     ]
    }
   ],
   "source": [
    "def cocktail_sort(a):\n",
    "    n = len(a)\n",
    "    swapped = True\n",
    "    start = 0\n",
    "    end = n-1\n",
    "    while (swapped == True):\n",
    "        swapped = False\n",
    "        for i in range (start, end):\n",
    "            if (a[i] > a[i + 1]) :\n",
    "                a[i], a[i + 1]= a[i + 1], a[i]\n",
    "                swapped = True\n",
    "        if (swapped == False):\n",
    "            break\n",
    "        swapped = False\n",
    "        end = end-1\n",
    "        for i in range(end-1, start-1, -1):\n",
    "            if (a[i] > a[i + 1]):\n",
    "                a[i], a[i + 1] = a[i + 1], a[i]\n",
    "                swapped = True\n",
    "        start = start + 1\n",
    "        \n",
    "n = int(input())\n",
    "x = list(map(int, input().split()))\n",
    "ans = 0\n",
    "cocktail_sort(x)\n",
    "for i in range(len(x) - 1):\n",
    "    if (i + 2) >= n:\n",
    "        if (x[i] == x[i + 1]) and (x[i] != 0):\n",
    "            ans  = ans + 1\n",
    "            i  = i + 1\n",
    "    else:\n",
    "        if  x[i] == x[i + 1] and x[i] != 0 and x[i] != x[i + 2]:\n",
    "            ans = ans + 1\n",
    "            i  = i + 1\n",
    "        elif x[i] == x[i + 1] and x[i] != 0 and x[i] != 0:\n",
    "            ans = -1\n",
    "            break\n",
    "print(ans)"
   ]
  },
  {
   "cell_type": "code",
   "execution_count": null,
   "metadata": {},
   "outputs": [],
   "source": []
  }
 ],
 "metadata": {
  "kernelspec": {
   "display_name": "Python 3",
   "language": "python",
   "name": "python3"
  },
  "language_info": {
   "codemirror_mode": {
    "name": "ipython",
    "version": 3
   },
   "file_extension": ".py",
   "mimetype": "text/x-python",
   "name": "python",
   "nbconvert_exporter": "python",
   "pygments_lexer": "ipython3",
   "version": "3.6.5"
  }
 },
 "nbformat": 4,
 "nbformat_minor": 2
}
